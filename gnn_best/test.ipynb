{
 "cells": [
  {
   "cell_type": "code",
   "execution_count": 2,
   "metadata": {},
   "outputs": [
    {
     "name": "stderr",
     "output_type": "stream",
     "text": [
      "/home/bl515-ml/Documents/shaio_jie/sma/Kpop_challenge_analyze/.venv/lib/python3.10/site-packages/tqdm/auto.py:21: TqdmWarning: IProgress not found. Please update jupyter and ipywidgets. See https://ipywidgets.readthedocs.io/en/stable/user_install.html\n",
      "  from .autonotebook import tqdm as notebook_tqdm\n"
     ]
    }
   ],
   "source": [
    "import torch\n",
    "import torch.nn.functional as F\n",
    "from torch_geometric.nn import GCNConv, SAGEConv, GATConv\n",
    "from torch_geometric.data import Data\n",
    "import pandas as pd\n",
    "import numpy as np\n",
    "from sklearn.preprocessing import LabelEncoder, MinMaxScaler\n",
    "from datetime import datetime\n",
    "import networkx as nx\n",
    "from sklearn.metrics import precision_score, recall_score, f1_score\n",
    "import os\n",
    "from gnn_best.model import GNNRecommender"
   ]
  },
  {
   "cell_type": "code",
   "execution_count": 2,
   "metadata": {},
   "outputs": [
    {
     "data": {
      "text/plain": [
       "GNNRecommender(\n",
       "  (conv1): GATConv(405, 128, heads=4)\n",
       "  (conv2): GATConv(512, 128, heads=2)\n",
       "  (conv3): GATConv(256, 405, heads=1)\n",
       "  (layer_norm1): LayerNorm((512,), eps=1e-05, elementwise_affine=True)\n",
       "  (layer_norm2): LayerNorm((256,), eps=1e-05, elementwise_affine=True)\n",
       "  (layer_norm3): LayerNorm((405,), eps=1e-05, elementwise_affine=True)\n",
       "  (forward_layer): Sequential(\n",
       "    (0): Linear(in_features=405, out_features=405, bias=True)\n",
       "    (1): LayerNorm((405,), eps=1e-05, elementwise_affine=True)\n",
       "    (2): ELU(alpha=1.0)\n",
       "  )\n",
       ")"
      ]
     },
     "execution_count": 2,
     "metadata": {},
     "output_type": "execute_result"
    }
   ],
   "source": [
    "train_data = torch.load('model.pth')\n",
    "model = GNNRecommender(num_features=train_data['num_features'])\n",
    "    \n",
    "# 載入訓練好的模型權重\n",
    "model.load_state_dict(train_data['model'])\n",
    "model.eval()  # 設置為評估模式"
   ]
  },
  {
   "cell_type": "code",
   "execution_count": 3,
   "metadata": {},
   "outputs": [],
   "source": [
    "def prepare_graph_data(collaboration_df, time_window=60, split_timestamp=None):\n",
    "    \"\"\"\n",
    "    準備圖神經網絡所需的數據，並根據時間戳分割訓練集和測試集\n",
    "    \"\"\"\n",
    "    # 創建節點編碼器\n",
    "    node_encoder = LabelEncoder()\n",
    "    \n",
    "    # 獲取所有唯一的藝人\n",
    "    all_artists = pd.concat([collaboration_df['source'], collaboration_df['target']]).unique()\n",
    "    node_encoder.fit(all_artists)\n",
    "    \n",
    "    # 創建節點特徵矩陣\n",
    "    num_nodes = len(all_artists)\n",
    "    x = torch.eye(num_nodes)  # 使用 one-hot 編碼作為初始特徵\n",
    "    \n",
    "    # 準備邊特徵\n",
    "    edge_scaler = MinMaxScaler()\n",
    "    edge_features = []\n",
    "    \n",
    "    # 分割訓練集和測試集\n",
    "    if split_timestamp:\n",
    "        train_df = collaboration_df[collaboration_df['timestamp'] < split_timestamp]\n",
    "        test_df = collaboration_df[collaboration_df['timestamp'] >= split_timestamp]\n",
    "    else:\n",
    "        train_df = collaboration_df\n",
    "        test_df = pd.DataFrame()\n",
    "    \n",
    "    # 創建訓練集的邊索引和屬性\n",
    "    train_edge_index = []\n",
    "    train_edge_attr = []\n",
    "    \n",
    "    # 處理訓練數據\n",
    "    for _, row in train_df.iterrows():\n",
    "        artist1_idx = node_encoder.transform([row['source']])[0]\n",
    "        artist2_idx = node_encoder.transform([row['target']])[0]\n",
    "        \n",
    "        # 添加雙向邊\n",
    "        train_edge_index.append([artist1_idx, artist2_idx])\n",
    "        train_edge_index.append([artist2_idx, artist1_idx])\n",
    "        \n",
    "        # 計算邊特徵\n",
    "        current_time = datetime.now().timestamp()\n",
    "        time_diff = (current_time - row['timestamp']) / (24 * 3600)  # 轉換為天\n",
    "        time_weight = np.exp(-time_diff / time_window)\n",
    "        \n",
    "        # 使用 views, likes, comments 作為額外特徵\n",
    "        views = row['views'] if 'views' in row else 0\n",
    "        likes = row['likes'] if 'likes' in row else 0\n",
    "        comments = row['comments'] if 'comments' in row else 0\n",
    "        \n",
    "        # 組合所有特徵\n",
    "        edge_feature = [time_weight, views, likes, comments]\n",
    "        edge_features.append(edge_feature)\n",
    "        edge_features.append(edge_feature)  # 雙向邊使用相同的特徵\n",
    "    \n",
    "    # 標準化邊特徵\n",
    "    edge_features = edge_scaler.fit_transform(edge_features)\n",
    "    train_edge_attr = torch.tensor(edge_features, dtype=torch.float)\n",
    "    train_edge_index = torch.tensor(train_edge_index, dtype=torch.long).t().contiguous()\n",
    "    \n",
    "    train_data = Data(x=x, edge_index=train_edge_index, edge_attr=train_edge_attr)\n",
    "    \n",
    "    # 如果有測試集，也創建測試數據\n",
    "    test_data = None\n",
    "    if not test_df.empty:\n",
    "        test_edge_index = []\n",
    "        test_edge_attr = []\n",
    "        test_edge_features = []\n",
    "        \n",
    "        for _, row in test_df.iterrows():\n",
    "            artist1_idx = node_encoder.transform([row['source']])[0]\n",
    "            artist2_idx = node_encoder.transform([row['target']])[0]\n",
    "            \n",
    "            test_edge_index.append([artist1_idx, artist2_idx])\n",
    "            test_edge_index.append([artist2_idx, artist1_idx])\n",
    "            \n",
    "            current_time = datetime.now().timestamp()\n",
    "            time_diff = (current_time - row['timestamp']) / (24 * 3600)\n",
    "            time_weight = np.exp(-time_diff / time_window)\n",
    "            \n",
    "            views = row['views'] if 'views' in row else 0\n",
    "            likes = row['likes'] if 'likes' in row else 0\n",
    "            comments = row['comments'] if 'comments' in row else 0\n",
    "            \n",
    "            edge_feature = [time_weight, views, likes, comments]\n",
    "            test_edge_features.append(edge_feature)\n",
    "            test_edge_features.append(edge_feature)\n",
    "        \n",
    "        test_edge_features = edge_scaler.transform(test_edge_features)\n",
    "        test_edge_attr = torch.tensor(test_edge_features, dtype=torch.float)\n",
    "        test_edge_index = torch.tensor(test_edge_index, dtype=torch.long).t().contiguous()\n",
    "        \n",
    "        test_data = Data(x=x, edge_index=test_edge_index, edge_attr=test_edge_attr)\n",
    "    \n",
    "    return train_data, test_data, node_encoder, test_df\n",
    "\n",
    "    \n",
    "df = pd.read_csv('/home/bl515-ml/Documents/shaio_jie/sma/Kpop_challenge_analyze/data/collaboration_videos.csv')\n",
    "train_data, test_data, node_encoder, test_df = prepare_graph_data(df, split_timestamp= datetime(2025, 1, 1).timestamp())"
   ]
  },
  {
   "cell_type": "code",
   "execution_count": 4,
   "metadata": {},
   "outputs": [
    {
     "data": {
      "text/plain": [
       "torch.Size([2, 44520])"
      ]
     },
     "execution_count": 4,
     "metadata": {},
     "output_type": "execute_result"
    }
   ],
   "source": [
    "train_data.edge_index.shape"
   ]
  },
  {
   "cell_type": "code",
   "execution_count": 5,
   "metadata": {},
   "outputs": [
    {
     "data": {
      "text/plain": [
       "torch.Size([405, 405])"
      ]
     },
     "execution_count": 5,
     "metadata": {},
     "output_type": "execute_result"
    }
   ],
   "source": [
    "out = model(train_data.x, train_data.edge_index, train_data.edge_attr)\n",
    "out.shape"
   ]
  },
  {
   "cell_type": "code",
   "execution_count": 10,
   "metadata": {},
   "outputs": [
    {
     "data": {
      "text/plain": [
       "tensor([9.8781e-01, 4.8454e-04, 3.8341e-03, 1.8593e-03, 3.3051e-06, 8.1624e-06,\n",
       "        7.8343e-06, 6.2922e-06, 3.2411e-06, 9.5504e-06, 4.5667e-06, 7.7281e-06,\n",
       "        5.2938e-06, 5.3848e-06, 1.1276e-05, 1.2466e-04, 9.6601e-06, 6.1200e-06,\n",
       "        4.0513e-06, 1.0625e-05, 1.0563e-05, 4.6984e-06, 1.2642e-05, 1.0441e-05,\n",
       "        3.2985e-06, 2.8046e-06, 5.4756e-06, 4.1925e-06, 3.9124e-06, 3.8688e-06,\n",
       "        3.1319e-06, 7.6982e-06, 3.5113e-06, 1.0838e-04, 3.8582e-06, 3.5127e-06,\n",
       "        2.8012e-06, 5.6263e-06, 1.0192e-05, 2.8464e-06, 9.6234e-06, 1.3536e-05,\n",
       "        3.8481e-06, 5.2545e-06, 4.9485e-06, 3.3008e-06, 4.5305e-06, 2.7508e-05,\n",
       "        2.4363e-05, 5.5056e-06, 6.1503e-06, 3.0488e-06, 1.3162e-05, 6.1804e-06,\n",
       "        9.2603e-06, 1.0348e-05, 1.0351e-05, 8.5524e-06, 7.3982e-06, 6.3885e-06,\n",
       "        3.3795e-06, 1.1800e-05, 5.6298e-06, 1.5104e-05, 5.8854e-06, 7.7402e-06,\n",
       "        1.6699e-05, 4.8820e-06, 4.7353e-06, 3.5929e-06, 6.4414e-06, 3.7914e-06,\n",
       "        5.2537e-06, 2.0771e-05, 9.1566e-06, 8.0502e-06, 3.2415e-06, 9.4458e-06,\n",
       "        3.4815e-06, 6.0125e-06, 6.6551e-06, 5.5848e-06, 1.6784e-05, 1.0080e-05,\n",
       "        1.1573e-05, 5.4673e-06, 6.9223e-06, 6.2934e-06, 5.1114e-06, 5.2831e-06,\n",
       "        3.5342e-06, 8.9546e-06, 4.4769e-06, 6.9097e-06, 1.2857e-05, 9.3137e-06,\n",
       "        9.4478e-06, 1.1501e-05, 1.2616e-05, 7.6052e-06, 1.4323e-05, 4.4364e-06,\n",
       "        5.5544e-06, 2.3742e-06, 2.9170e-06, 2.8242e-06, 3.0435e-06, 1.0616e-05,\n",
       "        2.6126e-06, 5.0938e-06, 3.7511e-06, 7.8155e-06, 7.2878e-06, 6.5174e-06,\n",
       "        8.0457e-06, 9.8101e-06, 5.2008e-06, 7.7109e-06, 6.5171e-06, 9.1194e-06,\n",
       "        3.8166e-06, 8.4119e-06, 6.8489e-06, 2.6854e-06, 5.3024e-06, 6.5913e-06,\n",
       "        6.0000e-06, 6.9724e-06, 5.8160e-06, 1.1866e-05, 4.3619e-06, 7.3745e-06,\n",
       "        1.0088e-05, 9.5086e-06, 3.1072e-06, 9.6455e-05, 2.6428e-06, 3.0244e-06,\n",
       "        9.5322e-06, 5.1527e-06, 3.9340e-06, 9.3469e-06, 8.1942e-06, 9.4072e-06,\n",
       "        6.4854e-06, 6.9716e-06, 5.8140e-06, 6.3090e-06, 7.0292e-06, 5.3839e-06,\n",
       "        8.2304e-06, 4.2791e-06, 6.0773e-06, 7.1121e-06, 3.3065e-06, 1.2306e-04,\n",
       "        2.9716e-06, 2.4978e-06, 1.3887e-05, 1.0092e-05, 3.5095e-06, 5.2139e-06,\n",
       "        1.6248e-05, 8.8143e-06, 7.8269e-06, 8.6017e-06, 6.3231e-06, 5.4600e-06,\n",
       "        5.3500e-06, 6.5368e-06, 1.0342e-05, 1.0336e-05, 1.5765e-05, 4.8820e-06,\n",
       "        6.3505e-06, 5.3970e-06, 2.8153e-06, 1.3968e-05, 9.8395e-06, 1.1415e-05,\n",
       "        6.6295e-06, 4.9192e-06, 4.4008e-06, 6.1516e-06, 5.4159e-06, 6.4612e-06,\n",
       "        3.3177e-06, 7.9302e-06, 6.7298e-06, 4.1508e-06, 5.1809e-06, 3.7605e-06,\n",
       "        7.0072e-06, 8.9164e-06, 7.7920e-06, 4.7878e-06, 4.6687e-06, 1.1202e-05,\n",
       "        6.4227e-06, 4.3097e-06, 6.4595e-06, 5.9617e-06, 3.7710e-06, 4.8937e-06,\n",
       "        6.6331e-06, 7.0786e-06, 1.0198e-05, 4.7746e-06, 3.8106e-06, 6.7462e-06,\n",
       "        3.8629e-06, 5.6098e-06, 3.9461e-06, 7.8046e-06, 8.8469e-06, 3.2406e-06,\n",
       "        7.8758e-06, 5.4570e-06, 9.6399e-06, 1.4041e-05, 8.1631e-06, 7.5509e-06,\n",
       "        7.5479e-06, 7.0767e-06, 5.5414e-06, 6.9876e-06, 3.1180e-06, 3.1940e-06,\n",
       "        8.1292e-06, 6.2180e-06, 4.8870e-06, 7.2075e-06, 5.1558e-06, 1.1077e-05,\n",
       "        4.2263e-05, 6.5850e-06, 1.1272e-05, 2.9046e-06, 2.1124e-05, 3.9668e-06,\n",
       "        3.2388e-06, 3.6563e-06, 4.1939e-06, 3.3340e-06, 5.7934e-06, 7.0786e-06,\n",
       "        3.3220e-06, 1.1803e-05, 3.7674e-06, 4.4453e-06, 6.4118e-06, 4.2437e-06,\n",
       "        7.1361e-06, 6.2152e-06, 8.7371e-06, 6.3897e-06, 5.4801e-06, 5.3894e-06,\n",
       "        3.2243e-06, 8.0651e-06, 4.9870e-06, 5.1641e-06, 9.7247e-06, 7.8737e-06,\n",
       "        9.6402e-06, 6.4293e-06, 1.9675e-05, 1.7205e-05, 3.9727e-06, 8.4690e-06,\n",
       "        5.2132e-06, 8.3067e-06, 5.0169e-06, 5.5001e-06, 1.6650e-05, 3.8897e-06,\n",
       "        4.1883e-06, 1.8136e-05, 8.6537e-06, 6.3642e-06, 1.1845e-05, 1.1599e-05,\n",
       "        4.6180e-06, 7.1085e-06, 4.7823e-06, 8.3710e-06, 1.6893e-05, 1.1919e-05,\n",
       "        2.2924e-05, 5.8993e-06, 4.2268e-06, 5.5198e-06, 7.5195e-06, 6.9630e-06,\n",
       "        6.2140e-06, 4.3450e-06, 1.6313e-05, 6.4800e-06, 3.6479e-06, 4.9075e-06,\n",
       "        4.5757e-06, 6.1198e-06, 6.9991e-06, 7.4700e-06, 1.0279e-05, 5.4393e-06,\n",
       "        7.3889e-06, 5.4702e-06, 3.9234e-05, 6.7247e-06, 5.0784e-06, 7.9988e-06,\n",
       "        3.7940e-06, 5.4670e-06, 7.5175e-06, 5.3306e-06, 4.5119e-06, 4.5486e-06,\n",
       "        6.7234e-06, 9.7849e-06, 4.2096e-06, 9.9649e-06, 6.8321e-06, 3.2269e-06,\n",
       "        4.6714e-06, 6.0470e-06, 9.3696e-06, 4.6656e-06, 5.4211e-06, 1.3359e-05,\n",
       "        4.8924e-06, 1.5062e-05, 4.2792e-06, 4.7507e-06, 8.4779e-06, 4.7888e-06,\n",
       "        7.8912e-06, 7.2593e-06, 6.7974e-06, 1.1515e-05, 9.0203e-06, 3.8705e-06,\n",
       "        7.3736e-06, 5.0395e-06, 5.9881e-06, 6.1827e-06, 4.7984e-06, 9.9260e-06,\n",
       "        4.1821e-06, 4.6709e-06, 7.7094e-06, 5.7202e-06, 7.4623e-06, 5.3326e-06,\n",
       "        4.2745e-06, 7.2501e-06, 7.3390e-06, 4.6778e-06, 5.6402e-06, 7.1323e-06,\n",
       "        8.0285e-06, 6.1631e-06, 9.9326e-06, 7.5162e-06, 1.2931e-05, 4.9529e-06,\n",
       "        1.1808e-05, 1.0201e-05, 4.0748e-06, 9.7203e-06, 9.3742e-06, 6.0753e-06,\n",
       "        3.2343e-06, 8.0628e-04, 2.7302e-06, 1.8260e-03, 2.7515e-06, 3.2466e-06,\n",
       "        5.7924e-06, 7.4574e-06, 3.4965e-06, 7.8087e-06, 6.2287e-06, 3.8174e-06,\n",
       "        3.0914e-06, 7.9956e-06, 5.6692e-06, 3.9755e-06, 5.3495e-06, 9.1449e-05,\n",
       "        6.5287e-06, 4.1794e-06, 8.6239e-06, 7.0431e-06, 5.9165e-06, 4.5550e-06,\n",
       "        6.7295e-06, 5.2428e-06, 3.6359e-06, 2.7758e-06, 7.5969e-06, 6.0912e-06,\n",
       "        1.5264e-05, 6.4438e-06, 7.9462e-06], grad_fn=<SoftmaxBackward0>)"
      ]
     },
     "execution_count": 10,
     "metadata": {},
     "output_type": "execute_result"
    }
   ],
   "source": [
    "F.softmax(out[0,:], dim=0)"
   ]
  },
  {
   "cell_type": "code",
   "execution_count": 7,
   "metadata": {},
   "outputs": [],
   "source": [
    "embeddings = model.get_embedding(train_data.x, train_data.edge_index, train_data.edge_attr)"
   ]
  },
  {
   "cell_type": "code",
   "execution_count": 8,
   "metadata": {},
   "outputs": [
    {
     "data": {
      "text/plain": [
       "torch.Size([405, 405])"
      ]
     },
     "execution_count": 8,
     "metadata": {},
     "output_type": "execute_result"
    }
   ],
   "source": [
    "embeddings.shape"
   ]
  },
  {
   "cell_type": "code",
   "execution_count": 9,
   "metadata": {},
   "outputs": [
    {
     "data": {
      "text/plain": [
       "tensor([-9.0662e-01, -7.3545e-01, -1.1635e-01, -2.7983e-01, -2.8207e-01,\n",
       "        -1.9159e-01, -9.5706e-01,  7.6652e-01,  1.3125e+00, -8.4179e-01,\n",
       "        -3.1051e-01,  5.3592e-01, -4.1930e-01,  8.4386e-01,  8.6492e-01,\n",
       "        -6.0051e-01, -5.0340e-01, -6.9413e-01,  6.5344e-01, -4.7714e-01,\n",
       "        -4.5430e-01,  1.2794e+00, -5.8185e-01, -1.0470e-01,  9.1599e-02,\n",
       "         6.3130e-01, -1.7859e-01, -1.8663e-01, -6.3641e-01, -6.9175e-01,\n",
       "         6.1135e-01,  2.4539e-02, -2.8283e-01, -6.9820e-01, -5.1373e-01,\n",
       "         1.8617e-01,  1.2569e+00, -5.9640e-01, -4.0214e-01, -3.6103e-01,\n",
       "        -2.3937e-01,  7.4101e-01, -2.2337e-01,  1.2324e+00, -4.2983e-01,\n",
       "        -5.0144e-03,  1.2977e-01,  2.0723e+00,  3.4802e-01,  7.3130e-01,\n",
       "         9.6496e-01, -7.9130e-01, -4.8713e-01, -4.7521e-02, -9.3712e-01,\n",
       "         8.7732e-01,  1.5317e+00, -7.3459e-01, -8.2759e-01, -5.4128e-02,\n",
       "         1.7123e+00,  1.3960e-01, -8.0496e-01, -3.7677e-01, -7.5774e-02,\n",
       "         1.4132e+00,  5.1004e-01,  3.5022e-01,  1.2161e+00, -8.0267e-01,\n",
       "        -5.0391e-02,  6.6566e-01, -2.2235e-02, -7.7986e-01, -4.7690e-01,\n",
       "        -3.5846e-01, -1.5250e-02, -6.4804e-01, -9.0345e-02,  1.1267e+00,\n",
       "        -6.5832e-01,  9.9611e-01,  8.3502e-01,  1.2140e+00, -7.5532e-01,\n",
       "         6.0964e-01,  3.4818e-01,  7.9935e-01, -3.3244e-01, -5.8933e-01,\n",
       "        -7.2266e-01,  6.5750e-02, -5.5048e-01,  2.3229e+00, -7.5757e-01,\n",
       "        -3.4003e-01,  1.4443e+00, -6.1360e-01,  2.2355e+00,  6.9536e-01,\n",
       "        -3.3656e-01,  2.8797e-02, -5.2935e-01,  5.8647e-01, -4.3019e-01,\n",
       "         5.5481e-02,  9.1761e-01, -4.1925e-03, -3.9700e-01, -7.3709e-01,\n",
       "        -5.2979e-01, -3.8011e-01, -7.2838e-01, -6.0890e-01,  2.4313e-01,\n",
       "         3.7725e-01,  2.1103e+00,  3.9342e-01,  7.6646e-01, -9.5207e-01,\n",
       "        -7.3454e-01,  1.1691e+00,  2.8436e-01, -1.8355e-01,  7.9410e-01,\n",
       "        -5.0778e-01,  1.0235e+00, -6.5739e-02,  3.9145e-01, -4.9992e-01,\n",
       "        -9.2550e-01,  1.0515e-02,  2.9477e-01, -1.9226e-01, -6.4343e-01,\n",
       "         2.8529e-01, -6.7151e-02, -7.8439e-01,  1.1085e+00,  7.7575e-01,\n",
       "        -3.6436e-01, -7.5170e-01,  3.6966e-01, -5.2962e-01,  2.1998e-01,\n",
       "         1.1225e+00, -3.3348e-01, -4.7910e-01, -2.7463e-01,  2.6317e-01,\n",
       "         2.7390e-01,  1.0773e-01, -7.7654e-01, -5.7222e-01,  1.1503e+00,\n",
       "         8.0864e-01, -5.7196e-01, -6.8359e-02, -4.1295e-01, -6.6004e-01,\n",
       "         1.2022e+00,  7.6238e-01, -5.8480e-01, -7.5212e-01,  2.2851e-01,\n",
       "         7.8285e-01, -7.6533e-01, -3.7297e-01, -1.3041e-01,  9.3020e-01,\n",
       "         8.3009e-01,  8.8671e-01,  3.4795e-01, -1.3480e-01,  5.7469e-01,\n",
       "        -7.9744e-02,  6.9944e-01,  1.7275e+00, -9.2767e-01,  9.0022e-02,\n",
       "        -3.1734e-01, -8.2118e-01, -8.4603e-01, -5.3744e-01,  5.3365e-01,\n",
       "         7.6243e-03,  1.1597e-01,  1.1806e+00,  3.2145e-01, -2.6388e-01,\n",
       "        -9.3969e-01, -6.2884e-01, -5.5075e-01, -1.0442e-01,  1.3894e+00,\n",
       "        -3.4510e-01, -5.5285e-01, -1.5977e-01,  1.2792e+00,  6.0504e-01,\n",
       "         3.4871e-01,  3.7572e-01,  1.4825e+00,  1.5271e+00, -2.9190e-01,\n",
       "         1.7247e+00, -4.2246e-01, -9.2881e-01, -7.0746e-01,  5.0602e-01,\n",
       "        -1.3829e-01, -4.4002e-01, -5.0207e-01, -4.4810e-02,  1.1356e+00,\n",
       "         1.1604e+00, -4.4458e-01, -5.4067e-02,  6.3444e-01, -8.8860e-01,\n",
       "        -8.1066e-01,  5.6929e-01, -8.5193e-01, -9.4109e-01, -1.0144e-01,\n",
       "         7.8962e-02,  4.0864e-02,  2.4461e+00,  3.4214e-01, -9.0336e-01,\n",
       "         1.2721e+00,  2.8601e-01,  8.7543e-01,  3.6670e-01,  3.1372e-01,\n",
       "        -2.9992e-03,  5.0336e-01,  6.5217e-01,  2.6958e-01, -6.5787e-01,\n",
       "        -8.2959e-01,  1.8795e+00,  5.6924e-01, -2.5081e-01, -4.9438e-01,\n",
       "         6.8738e-02,  1.2525e+00,  2.4345e-01, -2.2584e-01,  5.2314e-01,\n",
       "        -7.6545e-01, -3.0057e-02,  1.6016e-03,  6.9686e-01,  1.2989e-01,\n",
       "         1.4098e+00, -6.2598e-01, -5.9949e-01, -1.6510e-01, -7.8939e-02,\n",
       "        -7.3067e-01,  1.0365e+00, -8.9918e-01,  3.7438e-01, -3.4394e-01,\n",
       "        -1.1177e-01, -3.2570e-01,  4.2394e-02, -6.3051e-01,  3.4418e-01,\n",
       "        -1.2912e-01,  6.0779e-01,  1.2062e+00, -4.0816e-01,  9.7272e-01,\n",
       "         2.6048e-01,  6.2353e-02,  8.4687e-01,  1.1763e-01,  4.5525e-01,\n",
       "         5.2821e-01,  5.1199e-01, -3.3981e-01,  1.1501e-01,  1.7356e+00,\n",
       "        -7.6011e-01,  1.4134e+00,  8.0956e-01,  5.8675e-03,  5.8485e-01,\n",
       "         2.7985e+00, -2.5721e-01,  1.5701e-01, -4.4448e-01,  1.0972e+00,\n",
       "        -2.0292e-01, -7.4628e-01,  7.2786e-01, -8.2436e-01,  3.2688e-02,\n",
       "         6.9810e-02, -8.2451e-01,  2.0824e+00, -8.7390e-01, -4.0218e-01,\n",
       "         1.0224e+00,  7.7162e-01, -2.3862e-01,  3.2325e-01, -6.0752e-01,\n",
       "        -3.3363e-03,  1.1374e+00,  1.5466e+00,  1.3336e+00,  5.0490e-01,\n",
       "        -4.3277e-01, -2.6243e-01, -2.6173e-01, -7.4855e-01, -7.7154e-01,\n",
       "        -4.0114e-01, -3.8604e-01, -8.9304e-01, -7.0673e-01, -5.9659e-01,\n",
       "         5.3784e-01,  1.8834e+00,  1.0531e+00,  1.1359e+00,  1.6098e+00,\n",
       "         1.5538e+00, -5.3536e-01, -8.6124e-02, -5.8657e-01, -7.3140e-01,\n",
       "         3.7835e-01,  1.0026e+00,  8.2594e-01, -7.8573e-01,  1.6016e+00,\n",
       "         7.9364e-01,  1.7992e+00, -8.1072e-02, -3.6035e-01,  3.9188e-01,\n",
       "        -4.3930e-01,  9.8568e-01,  4.5704e-01,  1.5062e+00,  2.3503e-01,\n",
       "         1.1902e-01,  1.4135e+00, -1.4070e-01,  1.2098e+00, -4.0714e-01,\n",
       "         3.0710e-01,  8.9251e-01, -5.8813e-01, -2.5459e-01, -2.2694e-02,\n",
       "         4.7884e-01, -1.7556e-01,  6.7069e-01,  8.7162e-01,  1.0969e+00,\n",
       "         3.2197e-01,  8.4645e-01,  9.8437e-01, -5.6037e-01,  7.1437e-02,\n",
       "        -8.9864e-01, -9.2419e-01, -4.7350e-01, -5.4045e-01, -7.8092e-01,\n",
       "        -2.2571e-01, -2.9330e-01,  2.3779e-01,  4.8223e-01,  1.3312e-01,\n",
       "        -4.5650e-02, -6.2447e-01,  2.6145e-01,  3.6371e-01, -2.3641e-01,\n",
       "         5.4306e-01,  6.4500e-01,  1.8444e+00,  1.1568e+00,  7.1999e-01,\n",
       "         5.7016e-01, -5.0814e-01,  6.1242e-02,  4.2096e-01, -3.2709e-01,\n",
       "        -2.9695e-01, -5.0369e-01, -4.0236e-01, -5.3257e-01,  9.7983e-01,\n",
       "        -4.7140e-01,  3.2858e-01,  1.4073e-01, -8.4769e-01, -2.2096e-01],\n",
       "       grad_fn=<SliceBackward0>)"
      ]
     },
     "execution_count": 9,
     "metadata": {},
     "output_type": "execute_result"
    }
   ],
   "source": [
    "embeddings[0,:]"
   ]
  },
  {
   "cell_type": "code",
   "execution_count": 4,
   "metadata": {},
   "outputs": [],
   "source": [
    "\n",
    "df = pd.read_csv('../data/collaboration_videos.csv')\n",
    "    \n",
    "    # 將時間戳轉換為浮點數\n",
    "df['timestamp'] = df['timestamp'].astype(float)\n",
    "    \n",
    "    # 設置分割時間戳（2025-01-01 的 Unix 時間戳）\n",
    "split_timestamp = datetime(2025, 1, 1).timestamp()\n",
    "    \n",
    "test_df = df[df['timestamp'] >= split_timestamp]"
   ]
  },
  {
   "cell_type": "code",
   "execution_count": 5,
   "metadata": {},
   "outputs": [
    {
     "name": "stdout",
     "output_type": "stream",
     "text": [
      "0.7822736030828517\n"
     ]
    }
   ],
   "source": [
    "total = 0\n",
    "same_group = 0\n",
    "for _, row in test_df.iterrows():\n",
    "    total += 1\n",
    "    source_group = row['source'].split('_')[0]\n",
    "    target_group = row['target'].split('_')[0]\n",
    "    if source_group == target_group:\n",
    "        same_group += 1\n",
    "        \n",
    "print(same_group / total)\n"
   ]
  },
  {
   "cell_type": "code",
   "execution_count": null,
   "metadata": {},
   "outputs": [],
   "source": []
  }
 ],
 "metadata": {
  "kernelspec": {
   "display_name": ".venv",
   "language": "python",
   "name": "python3"
  },
  "language_info": {
   "codemirror_mode": {
    "name": "ipython",
    "version": 3
   },
   "file_extension": ".py",
   "mimetype": "text/x-python",
   "name": "python",
   "nbconvert_exporter": "python",
   "pygments_lexer": "ipython3",
   "version": "3.10.12"
  }
 },
 "nbformat": 4,
 "nbformat_minor": 2
}
